{
 "cells": [
  {
   "cell_type": "code",
   "execution_count": 1,
   "metadata": {},
   "outputs": [],
   "source": [
    "import pandas as pd\n",
    "\n",
    "PATH_TRAIN = \"dope_2009.csv\"\n",
    "\n",
    "df_train = pd.read_csv(PATH_TRAIN,encoding = 'utf8',sep=';')"
   ]
  },
  {
   "cell_type": "code",
   "execution_count": 2,
   "metadata": {},
   "outputs": [
    {
     "name": "stdout",
     "output_type": "stream",
     "text": [
      "    ano  edicao        data                      caderno            secao  \\\n",
      "0  2009     148  2009-12-31  Cadernos do Poder Executivo  Poder Executivo   \n",
      "1  2009     148  2009-12-31  Cadernos do Poder Executivo  Poder Executivo   \n",
      "2  2009     148  2009-12-31  Cadernos do Poder Executivo  Poder Executivo   \n",
      "3  2009     148  2009-12-31  Cadernos do Poder Executivo  Poder Executivo   \n",
      "4  2009     148  2009-12-31  Cadernos do Poder Executivo  Poder Executivo   \n",
      "\n",
      "                             responsavel    titulo  conteudo_ordem  \\\n",
      "0  Prefeito: João da Costa Bezerra Filho       Lei               1   \n",
      "1  Prefeito: João da Costa Bezerra Filho   Decreto               1   \n",
      "2  Prefeito: João da Costa Bezerra Filho  Portaria               1   \n",
      "3  Prefeito: João da Costa Bezerra Filho  Portaria               2   \n",
      "4  Prefeito: João da Costa Bezerra Filho  Portaria               3   \n",
      "\n",
      "                                            conteudo  \n",
      "0  LEI Nº 17.597 /2009  EMENTA: DISPÕE SOBRE A SE...  \n",
      "1  DECRETO Nº 25.024 DE 30 DE DEZEMBRODE 2009  EM...  \n",
      "2  PORTARIA Nº 3130 DE 30 DE DEZEMBRO DE  2009  O...  \n",
      "3  º 18012078.    PORTARIA Nº 3137 DE 30 DE DEZEM...  \n",
      "4  esenvolvimento Urbano e Ambiental, a contar da...  \n"
     ]
    }
   ],
   "source": [
    "print(df_train.head())"
   ]
  },
  {
   "cell_type": "code",
   "execution_count": 28,
   "metadata": {},
   "outputs": [
    {
     "name": "stdout",
     "output_type": "stream",
     "text": [
      "(5144, 9)\n"
     ]
    }
   ],
   "source": [
    "[nroInstances,nroAtributtes] = df_train.shape\n",
    "\n",
    "print(df_train.shape)"
   ]
  },
  {
   "cell_type": "markdown",
   "metadata": {},
   "source": [
    "### Get attributes names"
   ]
  },
  {
   "cell_type": "code",
   "execution_count": 4,
   "metadata": {},
   "outputs": [
    {
     "name": "stdout",
     "output_type": "stream",
     "text": [
      "['ano', 'edicao', 'data', 'caderno', 'secao', 'responsavel', 'titulo', 'conteudo_ordem', 'conteudo']\n"
     ]
    }
   ],
   "source": [
    "attributes = list(df_train.columns)\n",
    "print(attributes)"
   ]
  },
  {
   "cell_type": "markdown",
   "metadata": {},
   "source": [
    "### Get all categories from data frame"
   ]
  },
  {
   "cell_type": "code",
   "execution_count": 32,
   "metadata": {},
   "outputs": [
    {
     "name": "stdout",
     "output_type": "stream",
     "text": [
      "{0: 'Poder Executivo', 1: 'Licitações', 2: 'Secretaria de Assuntos Jurídicos', 3: 'Secretaria de Cultura', 4: 'Secretaria de Educação, Esporte e Lazer', 5: 'Secretaria de Finanças', 6: 'Secretaria de Direitos Humanos e Segurança Cidadã', 7: 'Secretaria de Saneamento', 8: 'Secretaria de Serviços Públicos', 9: 'Secretaria de Saúde', 10: 'Poder Legislativo - old', 11: 'Notícias', 12: 'Secretaria de Administração e Gestão de Pessoas', 13: 'Secretaria de Assistência Social', 14: 'Secretaria de Ciência, Tecnologia e Desenvolvimento Econômico', 15: 'Secretaria de Planejamento Participativo, Obras e Desenvolvimento Urbano e Ambiental', 16: 'Secretaria de Coordenação Política de Governo', 17: 'Secretaria de Comunicação', 18: 'Fundação de Cultura Cidade do Recife - FCCR', 19: 'Secretaria de Habitação'}\n"
     ]
    }
   ],
   "source": [
    "labelsArray = pd.unique(df_train['secao'].values)\n",
    "labels = labelsArray.tolist()\n",
    "#print(labels)\n",
    "\n",
    "dictionary = {}\n",
    "invdict = {}\n",
    "for i in range(0,len(labels)):\n",
    "    dictionary[i] = labels[i]\n",
    "    invdict[labels[i]] = i\n",
    "\n",
    "print(dictionary)"
   ]
  },
  {
   "cell_type": "markdown",
   "metadata": {},
   "source": [
    "### Count the number of instancer per category"
   ]
  },
  {
   "cell_type": "code",
   "execution_count": 13,
   "metadata": {},
   "outputs": [
    {
     "name": "stdout",
     "output_type": "stream",
     "text": [
      "                                                    ano  edicao  data  \\\n",
      "secao                                                                   \n",
      "Fundação de Cultura Cidade do Recife - FCCR           5       5     5   \n",
      "Licitações                                          297     297   297   \n",
      "Notícias                                            588     588   588   \n",
      "Poder Executivo                                     877     877   877   \n",
      "Poder Legislativo - old                             878     878   878   \n",
      "Secretaria de Administração e Gestão de Pessoas     337     337   337   \n",
      "Secretaria de Assistência Social                    189     189   189   \n",
      "Secretaria de Assuntos Jurídicos                    338     338   338   \n",
      "Secretaria de Ciência, Tecnologia e Desenvolvim...   57      57    57   \n",
      "Secretaria de Comunicação                             4       4     4   \n",
      "Secretaria de Coordenação Política de Governo         5       5     5   \n",
      "Secretaria de Cultura                               230     230   230   \n",
      "Secretaria de Direitos Humanos e Segurança Cidadã   104     104   104   \n",
      "Secretaria de Educação, Esporte e Lazer             365     365   365   \n",
      "Secretaria de Finanças                              370     370   370   \n",
      "Secretaria de Habitação                               6       6     6   \n",
      "Secretaria de Planejamento Participativo, Obras...   87      87    87   \n",
      "Secretaria de Saneamento                             80      80    80   \n",
      "Secretaria de Saúde                                 162     162   162   \n",
      "Secretaria de Serviços Públicos                     165     165   165   \n",
      "\n",
      "                                                    caderno  responsavel  \\\n",
      "secao                                                                      \n",
      "Fundação de Cultura Cidade do Recife - FCCR               5            5   \n",
      "Licitações                                              297            0   \n",
      "Notícias                                                588            0   \n",
      "Poder Executivo                                         877          877   \n",
      "Poder Legislativo - old                                 878          878   \n",
      "Secretaria de Administração e Gestão de Pessoas         337          337   \n",
      "Secretaria de Assistência Social                        189          189   \n",
      "Secretaria de Assuntos Jurídicos                        338          338   \n",
      "Secretaria de Ciência, Tecnologia e Desenvolvim...       57           57   \n",
      "Secretaria de Comunicação                                 4            4   \n",
      "Secretaria de Coordenação Política de Governo             5            5   \n",
      "Secretaria de Cultura                                   230          230   \n",
      "Secretaria de Direitos Humanos e Segurança Cidadã       104          104   \n",
      "Secretaria de Educação, Esporte e Lazer                 365          365   \n",
      "Secretaria de Finanças                                  370          370   \n",
      "Secretaria de Habitação                                   6            6   \n",
      "Secretaria de Planejamento Participativo, Obras...       87           87   \n",
      "Secretaria de Saneamento                                 80           80   \n",
      "Secretaria de Saúde                                     162          162   \n",
      "Secretaria de Serviços Públicos                         165          165   \n",
      "\n",
      "                                                    titulo  conteudo_ordem  \\\n",
      "secao                                                                        \n",
      "Fundação de Cultura Cidade do Recife - FCCR              5               5   \n",
      "Licitações                                             297             297   \n",
      "Notícias                                               588             588   \n",
      "Poder Executivo                                        877             877   \n",
      "Poder Legislativo - old                                878             878   \n",
      "Secretaria de Administração e Gestão de Pessoas        337             337   \n",
      "Secretaria de Assistência Social                       189             189   \n",
      "Secretaria de Assuntos Jurídicos                       338             338   \n",
      "Secretaria de Ciência, Tecnologia e Desenvolvim...      57              57   \n",
      "Secretaria de Comunicação                                4               4   \n",
      "Secretaria de Coordenação Política de Governo            5               5   \n",
      "Secretaria de Cultura                                  230             230   \n",
      "Secretaria de Direitos Humanos e Segurança Cidadã      104             104   \n",
      "Secretaria de Educação, Esporte e Lazer                365             365   \n",
      "Secretaria de Finanças                                 370             370   \n",
      "Secretaria de Habitação                                  6               6   \n",
      "Secretaria de Planejamento Participativo, Obras...      87              87   \n",
      "Secretaria de Saneamento                                80              80   \n",
      "Secretaria de Saúde                                    162             162   \n",
      "Secretaria de Serviços Públicos                        165             165   \n",
      "\n",
      "                                                    conteudo  \n",
      "secao                                                         \n",
      "Fundação de Cultura Cidade do Recife - FCCR                5  \n",
      "Licitações                                               297  \n",
      "Notícias                                                 588  \n",
      "Poder Executivo                                          877  \n",
      "Poder Legislativo - old                                  878  \n",
      "Secretaria de Administração e Gestão de Pessoas          337  \n",
      "Secretaria de Assistência Social                         189  \n",
      "Secretaria de Assuntos Jurídicos                         338  \n",
      "Secretaria de Ciência, Tecnologia e Desenvolvim...        57  \n",
      "Secretaria de Comunicação                                  4  \n",
      "Secretaria de Coordenação Política de Governo              5  \n",
      "Secretaria de Cultura                                    230  \n",
      "Secretaria de Direitos Humanos e Segurança Cidadã        104  \n",
      "Secretaria de Educação, Esporte e Lazer                  365  \n",
      "Secretaria de Finanças                                   370  \n",
      "Secretaria de Habitação                                    6  \n",
      "Secretaria de Planejamento Participativo, Obras...        87  \n",
      "Secretaria de Saneamento                                  80  \n",
      "Secretaria de Saúde                                      162  \n",
      "Secretaria de Serviços Públicos                          165  \n"
     ]
    }
   ],
   "source": [
    "print(df_train.groupby('secao').count())"
   ]
  },
  {
   "cell_type": "code",
   "execution_count": 47,
   "metadata": {},
   "outputs": [
    {
     "name": "stderr",
     "output_type": "stream",
     "text": [
      "/home/vinicius/.local/lib/python3.6/site-packages/ipykernel_launcher.py:10: SettingWithCopyWarning: \n",
      "A value is trying to be set on a copy of a slice from a DataFrame.\n",
      "Try using .loc[row_indexer,col_indexer] = value instead\n",
      "\n",
      "See the caveats in the documentation: https://pandas.pydata.org/pandas-docs/stable/user_guide/indexing.html#returning-a-view-versus-a-copy\n",
      "  # Remove the CWD from sys.path while we load stuff.\n"
     ]
    },
    {
     "name": "stdout",
     "output_type": "stream",
     "text": [
      "             secao                                           conteudo  \\\n",
      "0  Poder Executivo  LEI Nº 17.597 /2009  EMENTA: DISPÕE SOBRE A SE...   \n",
      "1  Poder Executivo  DECRETO Nº 25.024 DE 30 DE DEZEMBRODE 2009  EM...   \n",
      "2  Poder Executivo  PORTARIA Nº 3130 DE 30 DE DEZEMBRO DE  2009  O...   \n",
      "3  Poder Executivo  º 18012078.    PORTARIA Nº 3137 DE 30 DE DEZEM...   \n",
      "4  Poder Executivo  esenvolvimento Urbano e Ambiental, a contar da...   \n",
      "\n",
      "   int_label  \n",
      "0          0  \n",
      "1          0  \n",
      "2          0  \n",
      "3          0  \n",
      "4          0  \n"
     ]
    }
   ],
   "source": [
    "df1 = df_train[['secao','conteudo']]\n",
    "\n",
    "categ = df_train['secao']\n",
    "\n",
    "intlabel = []\n",
    "for i in range(0,nroInstances):\n",
    "    #print(i)\n",
    "    intlabel.append(invdict[categ[i]])\n",
    "\n",
    "df1[\"int_label\"] = intlabel\n",
    "print(df1.head())\n",
    "\n",
    "df1.to_csv(\"dope_v2.csv\",sep=',',index = False)\n"
   ]
  },
  {
   "cell_type": "code",
   "execution_count": null,
   "metadata": {},
   "outputs": [],
   "source": []
  }
 ],
 "metadata": {
  "kernelspec": {
   "display_name": "Python 3",
   "language": "python",
   "name": "python3"
  },
  "language_info": {
   "codemirror_mode": {
    "name": "ipython",
    "version": 3
   },
   "file_extension": ".py",
   "mimetype": "text/x-python",
   "name": "python",
   "nbconvert_exporter": "python",
   "pygments_lexer": "ipython3",
   "version": "3.6.10"
  }
 },
 "nbformat": 4,
 "nbformat_minor": 2
}
