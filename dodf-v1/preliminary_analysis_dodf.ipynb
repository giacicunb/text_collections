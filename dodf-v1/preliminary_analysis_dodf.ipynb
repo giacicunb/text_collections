{
 "cells": [
  {
   "cell_type": "code",
   "execution_count": 15,
   "metadata": {},
   "outputs": [],
   "source": [
    "import pandas as pd\n",
    "\n",
    "PATH_TRAIN = \"dodftrain.csv\"\n",
    "\n",
    "df_train = pd.read_csv(PATH_TRAIN,encoding = 'utf8',header = 0)"
   ]
  },
  {
   "cell_type": "code",
   "execution_count": 16,
   "metadata": {},
   "outputs": [
    {
     "name": "stdout",
     "output_type": "stream",
     "text": [
      "                                               label  \\\n",
      "0          SECRETARIA DE ESTADO DE SEGURANÇA PÚBLICA   \n",
      "1                    SECRETARIA DE ESTADO DE CULTURA   \n",
      "2          SECRETARIA DE ESTADO DE SEGURANÇA PÚBLICA   \n",
      "3  SECRETARIA DE ESTADO DE FAZENDA, PLANEJAMENTO,...   \n",
      "4                                         CASA CIVIL   \n",
      "\n",
      "                                                text  is_valid  \n",
      "0  O DIRETOR-GERAL DO DEPARTAMENTO DE TRÂNSITO DO...     False  \n",
      "1  PROCESSO: 00150-00010629/2018-72; NOTA DE EMPE...     False  \n",
      "2  O DIRETOR-GERAL DO DEPARTAMENTO DE TRÂNSITO DO...     False  \n",
      "3  A Comissão Permanente de Licitação do BRB - BA...     False  \n",
      "4  A ADMINISTRADORA REGIONAL DE TAGUATINGA DO DIS...     False  \n"
     ]
    }
   ],
   "source": [
    "print(df_train.head())"
   ]
  },
  {
   "cell_type": "code",
   "execution_count": 17,
   "metadata": {},
   "outputs": [
    {
     "name": "stdout",
     "output_type": "stream",
     "text": [
      "(717, 3)\n"
     ]
    }
   ],
   "source": [
    "print(df_train.shape)"
   ]
  },
  {
   "cell_type": "markdown",
   "metadata": {},
   "source": [
    "### Get all categories from data frame"
   ]
  },
  {
   "cell_type": "code",
   "execution_count": 18,
   "metadata": {},
   "outputs": [
    {
     "name": "stdout",
     "output_type": "stream",
     "text": [
      "{0: 'SECRETARIA DE ESTADO DE SEGURANÇA PÚBLICA', 1: 'SECRETARIA DE ESTADO DE CULTURA', 2: 'SECRETARIA DE ESTADO DE FAZENDA, PLANEJAMENTO, ORÇAMENTO E GESTÃO', 3: 'CASA CIVIL', 4: 'SECRETARIA DE ESTADO DE OBRAS E INFRAESTRUTURA', 5: 'SECRETARIA DE ESTADO DE EDUCAÇÃO', 6: 'DEFENSORIA PÚBLICA DO DISTRITO FEDERAL', 7: 'SECRETARIA DE ESTADO DE SAÚDE', 8: 'TRIBUNAL DE CONTAS DO DISTRITO FEDERAL', 9: 'SECRETARIA DE ESTADO DE DESENVOLVIMENTO URBANO E HABITAÇÃO', 10: 'PODER LEGISLATIVO', 11: 'SECRETARIA DE ESTADO DE JUSTIÇA E CIDADANIA', 12: 'SECRETARIA DE ESTADO DE TRANSPORTE E MOBILIDADE', 13: 'CONTROLADORIA GERAL DO DISTRITO FEDERAL', 14: 'PODER EXECUTIVO', 15: 'SECRETARIA DE ESTADO DE AGRICULTURA, ABASTECIMENTO E DESENVOLVIMENTO RURAL', 16: 'SECRETARIA DE ESTADO DE ECONOMIA, DESENVOLVIMENTO, INOVAÇÃO, CIÊNCIA E TECNOLOGIA', 17: 'SECRETARIA DE ESTADO DE DESENVOLVIMENTO ECONÔMICO', 18: 'SECRETARIA DE ESTADO DO MEIO AMBIENTE'}\n"
     ]
    }
   ],
   "source": [
    "labelsArray = pd.unique(df_train['label'].values)\n",
    "labels = labelsArray.tolist()\n",
    "#print(labels)\n",
    "\n",
    "dictionary = {}\n",
    "for i in range(0,len(labels)):\n",
    "    dictionary[i] = labels[i]\n",
    "\n",
    "print(dictionary)"
   ]
  },
  {
   "cell_type": "markdown",
   "metadata": {},
   "source": [
    "### Count the number of instancer per category"
   ]
  },
  {
   "cell_type": "code",
   "execution_count": 19,
   "metadata": {},
   "outputs": [
    {
     "name": "stdout",
     "output_type": "stream",
     "text": [
      "                                                    text  is_valid\n",
      "label                                                             \n",
      "CASA CIVIL                                            56        56\n",
      "CONTROLADORIA GERAL DO DISTRITO FEDERAL                6         6\n",
      "DEFENSORIA PÚBLICA DO DISTRITO FEDERAL                23        23\n",
      "PODER EXECUTIVO                                       31        31\n",
      "PODER LEGISLATIVO                                      4         4\n",
      "SECRETARIA DE ESTADO DE AGRICULTURA, ABASTECIME...    11        11\n",
      "SECRETARIA DE ESTADO DE CULTURA                       40        40\n",
      "SECRETARIA DE ESTADO DE DESENVOLVIMENTO ECONÔMICO     11        11\n",
      "SECRETARIA DE ESTADO DE DESENVOLVIMENTO URBANO ...    12        12\n",
      "SECRETARIA DE ESTADO DE ECONOMIA, DESENVOLVIMEN...     4         4\n",
      "SECRETARIA DE ESTADO DE EDUCAÇÃO                      40        40\n",
      "SECRETARIA DE ESTADO DE FAZENDA, PLANEJAMENTO, ...    63        63\n",
      "SECRETARIA DE ESTADO DE JUSTIÇA E CIDADANIA           14        14\n",
      "SECRETARIA DE ESTADO DE OBRAS E INFRAESTRUTURA        56        56\n",
      "SECRETARIA DE ESTADO DE SAÚDE                         97        97\n",
      "SECRETARIA DE ESTADO DE SEGURANÇA PÚBLICA            152       152\n",
      "SECRETARIA DE ESTADO DE TRANSPORTE E MOBILIDADE       60        60\n",
      "SECRETARIA DE ESTADO DO MEIO AMBIENTE                  5         5\n",
      "TRIBUNAL DE CONTAS DO DISTRITO FEDERAL                32        32\n"
     ]
    }
   ],
   "source": [
    "print(df_train.groupby('label').count())"
   ]
  }
 ],
 "metadata": {
  "kernelspec": {
   "display_name": "Python 3",
   "language": "python",
   "name": "python3"
  },
  "language_info": {
   "codemirror_mode": {
    "name": "ipython",
    "version": 3
   },
   "file_extension": ".py",
   "mimetype": "text/x-python",
   "name": "python",
   "nbconvert_exporter": "python",
   "pygments_lexer": "ipython3",
   "version": "3.6.10"
  }
 },
 "nbformat": 4,
 "nbformat_minor": 2
}
